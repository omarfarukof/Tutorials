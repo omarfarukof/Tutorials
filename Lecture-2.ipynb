{
 "cells": [
  {
   "attachments": {},
   "cell_type": "markdown",
   "metadata": {},
   "source": [
    "# Defferent Variables"
   ]
  },
  {
   "attachments": {},
   "cell_type": "markdown",
   "metadata": {},
   "source": [
    "## Datatype"
   ]
  },
  {
   "cell_type": "code",
   "execution_count": null,
   "metadata": {},
   "outputs": [
    {
     "name": "stdout",
     "output_type": "stream",
     "text": [
      "Hello World\n",
      "<class 'str'>\n"
     ]
    }
   ],
   "source": [
    "x = \"Hello World\"\t\n",
    "print(x)\n",
    "print(type(x))"
   ]
  },
  {
   "cell_type": "code",
   "execution_count": null,
   "metadata": {},
   "outputs": [
    {
     "name": "stdout",
     "output_type": "stream",
     "text": [
      "20\n",
      "<class 'int'>\n"
     ]
    }
   ],
   "source": [
    "x = 20\n",
    "print(x)\n",
    "print(type(x))"
   ]
  },
  {
   "cell_type": "code",
   "execution_count": null,
   "metadata": {},
   "outputs": [
    {
     "name": "stdout",
     "output_type": "stream",
     "text": [
      "20.5\n",
      "<class 'float'>\n"
     ]
    }
   ],
   "source": [
    "x = 20.5\n",
    "print(x)\n",
    "print(type(x))"
   ]
  },
  {
   "cell_type": "code",
   "execution_count": null,
   "metadata": {},
   "outputs": [
    {
     "name": "stdout",
     "output_type": "stream",
     "text": [
      "1j\n",
      "<class 'complex'>\n"
     ]
    }
   ],
   "source": [
    "x = 1j\n",
    "print(x)\n",
    "print(type(x))"
   ]
  },
  {
   "cell_type": "code",
   "execution_count": null,
   "metadata": {},
   "outputs": [
    {
     "name": "stdout",
     "output_type": "stream",
     "text": [
      "['apple', 'banana', 'cherry']\n",
      "<class 'list'>\n"
     ]
    }
   ],
   "source": [
    "x = [\"apple\", \"banana\", \"cherry\"]\n",
    "print(x)\n",
    "print(type(x))"
   ]
  },
  {
   "cell_type": "code",
   "execution_count": null,
   "metadata": {},
   "outputs": [
    {
     "name": "stdout",
     "output_type": "stream",
     "text": [
      "('apple', 'banana', 'cherry')\n",
      "<class 'tuple'>\n"
     ]
    }
   ],
   "source": [
    "x = (\"apple\", \"banana\", \"cherry\")\n",
    "print(x)\n",
    "print(type(x))"
   ]
  },
  {
   "cell_type": "code",
   "execution_count": null,
   "metadata": {},
   "outputs": [
    {
     "name": "stdout",
     "output_type": "stream",
     "text": [
      "range(0, 6)\n",
      "<class 'range'>\n"
     ]
    }
   ],
   "source": [
    "x = range(6)\n",
    "print(x)\n",
    "print(type(x))"
   ]
  },
  {
   "cell_type": "code",
   "execution_count": null,
   "metadata": {},
   "outputs": [
    {
     "name": "stdout",
     "output_type": "stream",
     "text": [
      "{'name': 'John', 'age': 36}\n",
      "<class 'dict'>\n"
     ]
    }
   ],
   "source": [
    "x = {\"name\" : \"John\", \"age\" : 36}\n",
    "print(x)\n",
    "print(type(x))"
   ]
  },
  {
   "cell_type": "code",
   "execution_count": null,
   "metadata": {},
   "outputs": [
    {
     "name": "stdout",
     "output_type": "stream",
     "text": [
      "{'cherry', 'banana', 'apple'}\n",
      "<class 'set'>\n"
     ]
    }
   ],
   "source": [
    "x = {\"apple\", \"banana\", \"cherry\"}\n",
    "print(x)\n",
    "print(type(x))"
   ]
  },
  {
   "cell_type": "code",
   "execution_count": null,
   "metadata": {},
   "outputs": [
    {
     "name": "stdout",
     "output_type": "stream",
     "text": [
      "frozenset({'cherry', 'banana', 'apple'})\n",
      "<class 'frozenset'>\n"
     ]
    }
   ],
   "source": [
    "x = frozenset({\"apple\", \"banana\", \"cherry\"})\n",
    "print(x)\n",
    "print(type(x))"
   ]
  },
  {
   "cell_type": "code",
   "execution_count": null,
   "metadata": {},
   "outputs": [
    {
     "name": "stdout",
     "output_type": "stream",
     "text": [
      "True\n",
      "<class 'bool'>\n",
      "True\n",
      "<class 'bool'>\n",
      "False\n",
      "<class 'bool'>\n"
     ]
    }
   ],
   "source": [
    "x = True\t\n",
    "print(x)\n",
    "print(type(x))\n",
    "\n",
    "x = bool(5)     # bool(0) = False and bool(!=0) = True\n",
    "print(x)\n",
    "print(type(x))\n",
    "\n",
    "x = bool(0)\n",
    "print(x)\n",
    "print(type(x))"
   ]
  },
  {
   "cell_type": "code",
   "execution_count": null,
   "metadata": {},
   "outputs": [
    {
     "name": "stdout",
     "output_type": "stream",
     "text": [
      "b'Hello'\n",
      "<class 'bytes'>\n",
      "b'\\x00\\x00\\x00\\x00\\x00'\n",
      "<class 'bytes'>\n"
     ]
    }
   ],
   "source": [
    "x = b\"Hello\"\n",
    "print(x)\n",
    "print(type(x))\n",
    "\n",
    "x = bytes(5)\n",
    "print(x)\n",
    "print(type(x))"
   ]
  },
  {
   "cell_type": "code",
   "execution_count": null,
   "metadata": {},
   "outputs": [
    {
     "name": "stdout",
     "output_type": "stream",
     "text": [
      "bytearray(b'\\x00\\x00\\x00\\x00\\x00')\n",
      "<class 'bytearray'>\n"
     ]
    }
   ],
   "source": [
    "x = bytearray(5)\n",
    "print(x)\n",
    "print(type(x))"
   ]
  },
  {
   "cell_type": "code",
   "execution_count": null,
   "metadata": {},
   "outputs": [
    {
     "name": "stdout",
     "output_type": "stream",
     "text": [
      "<memory at 0x7f1b3f1e1e40>\n",
      "<class 'memoryview'>\n"
     ]
    }
   ],
   "source": [
    "x = memoryview(bytes(5))\n",
    "print(x)\n",
    "print(type(x))"
   ]
  },
  {
   "cell_type": "code",
   "execution_count": null,
   "metadata": {},
   "outputs": [
    {
     "name": "stdout",
     "output_type": "stream",
     "text": [
      "None\n",
      "<class 'NoneType'>\n"
     ]
    }
   ],
   "source": [
    "x = None\n",
    "print(x)\n",
    "print(type(x))"
   ]
  },
  {
   "attachments": {},
   "cell_type": "markdown",
   "metadata": {},
   "source": [
    "## String"
   ]
  },
  {
   "cell_type": "code",
   "execution_count": null,
   "metadata": {},
   "outputs": [
    {
     "name": "stdout",
     "output_type": "stream",
     "text": [
      "This is a string\n",
      "<class 'str'>\n",
      "Another string using double quotes\n",
      "<class 'str'>\n"
     ]
    }
   ],
   "source": [
    "s = 'This is a string'\n",
    "print(s)\n",
    "print(type(s))\n",
    "\n",
    "s = \"Another string using double quotes\"\n",
    "print(s)\n",
    "print(type(s))"
   ]
  },
  {
   "attachments": {},
   "cell_type": "markdown",
   "metadata": {},
   "source": [
    "- Multiline string `''' .... '''`"
   ]
  },
  {
   "cell_type": "code",
   "execution_count": null,
   "metadata": {},
   "outputs": [
    {
     "name": "stdout",
     "output_type": "stream",
     "text": [
      " string can span\n",
      "        multiple line \n",
      "<class 'str'>\n"
     ]
    }
   ],
   "source": [
    "s = ''' string can span\n",
    "        multiple line '''\n",
    "print(s)\n",
    "print(type(s))"
   ]
  },
  {
   "attachments": {},
   "cell_type": "markdown",
   "metadata": {},
   "source": [
    "- If a string contains a single quote, you should place it in double-quotes like this:\n",
    "    - `message = \"It's a string\"`\n",
    "\n",
    "- And when a string contains double quotes, you can use the single quotes:\n",
    "    - `message = '\"Beautiful is better than ugly.\". Said Tim Peters'`\n",
    "- To escape the quotes, you use the backslash (`\\`)."
   ]
  },
  {
   "cell_type": "code",
   "execution_count": null,
   "metadata": {},
   "outputs": [
    {
     "name": "stdout",
     "output_type": "stream",
     "text": [
      "It's also a valid string\n",
      "<class 'str'>\n"
     ]
    }
   ],
   "source": [
    "s = 'It\\'s also a valid string'\n",
    "\n",
    "print(s)\n",
    "print(type(s))"
   ]
  },
  {
   "attachments": {},
   "cell_type": "markdown",
   "metadata": {},
   "source": [
    "- The Python interpreter will treat the backslash character (`\\`) special. If you don’t want it to do so, you can use raw strings by adding the letter `r` before the first quote."
   ]
  },
  {
   "cell_type": "code",
   "execution_count": null,
   "metadata": {},
   "outputs": [
    {
     "name": "stdout",
     "output_type": "stream",
     "text": [
      "C:\\python\\bin\n",
      "C:\\pythoin\n"
     ]
    }
   ],
   "source": [
    "#Single quotes\n",
    "s1 = r'C:\\python\\bin'\n",
    "s2 = 'C:\\python\\bin'\n",
    "\n",
    "print(s1)\n",
    "print(s2)"
   ]
  },
  {
   "cell_type": "code",
   "execution_count": null,
   "metadata": {},
   "outputs": [
    {
     "name": "stdout",
     "output_type": "stream",
     "text": [
      "Double quotes\n",
      "C:\\python\\bin\n",
      "C:\\pythoin\n"
     ]
    }
   ],
   "source": [
    "#Double quotes\n",
    "s1 = r\"C:\\python\\bin\"\n",
    "s2 = \"C:\\python\\bin\"\n",
    "\n",
    "print(s1)\n",
    "print(s2)"
   ]
  },
  {
   "attachments": {},
   "cell_type": "markdown",
   "metadata": {},
   "source": [
    "- use the values of `variables` in a string.\n",
    "- To do it, you place the letter `f` before the opening quotation mark and put the `brace` around the `variable name`:"
   ]
  },
  {
   "cell_type": "code",
   "execution_count": null,
   "metadata": {},
   "outputs": [
    {
     "name": "stdout",
     "output_type": "stream",
     "text": [
      "Hi John\n"
     ]
    }
   ],
   "source": [
    "name = 'John'\n",
    "message = f'Hi {name}'\n",
    "print(message)"
   ]
  },
  {
   "attachments": {},
   "cell_type": "markdown",
   "metadata": {},
   "source": [
    "- Concatenating Python strings"
   ]
  },
  {
   "cell_type": "code",
   "execution_count": null,
   "metadata": {},
   "outputs": [
    {
     "name": "stdout",
     "output_type": "stream",
     "text": [
      "Good Morning!\n"
     ]
    }
   ],
   "source": [
    "greeting = 'Good ' 'Morning!'\n",
    "print(greeting)"
   ]
  },
  {
   "cell_type": "code",
   "execution_count": null,
   "metadata": {},
   "outputs": [
    {
     "name": "stdout",
     "output_type": "stream",
     "text": [
      "Good Afternoon!\n"
     ]
    }
   ],
   "source": [
    "greeting = 'Good'\n",
    "time = 'Afternoon'\n",
    "\n",
    "greeting = greeting + ' ' + time + '!'  # ' ' to add white space\n",
    "print(greeting)"
   ]
  },
  {
   "attachments": {},
   "cell_type": "markdown",
   "metadata": {},
   "source": [
    "- `Accessing string element`\n",
    "- Since a string is a sequence of characters, you can access its elements using an index. The first character in the string has an index of `zero` (`0`)."
   ]
  },
  {
   "cell_type": "code",
   "execution_count": null,
   "metadata": {},
   "outputs": [
    {
     "name": "stdout",
     "output_type": "stream",
     "text": [
      "P\n",
      "y\n"
     ]
    }
   ],
   "source": [
    "str = \"Python String\"\n",
    "print(str[0]) # P\n",
    "print(str[1]) # y"
   ]
  },
  {
   "attachments": {},
   "cell_type": "markdown",
   "metadata": {},
   "source": [
    "- If you use a `negative index`, Python returns the character starting from the `end of the string`."
   ]
  },
  {
   "cell_type": "code",
   "execution_count": null,
   "metadata": {},
   "outputs": [
    {
     "name": "stdout",
     "output_type": "stream",
     "text": [
      "g\n",
      "n\n"
     ]
    }
   ],
   "source": [
    "str = \"Python String\"\n",
    "print(str[-1])  # g\n",
    "print(str[-2])  # n"
   ]
  },
  {
   "attachments": {},
   "cell_type": "markdown",
   "metadata": {},
   "source": [
    "- The following illustrates the indexes of the string `Python String`:"
   ]
  },
  {
   "attachments": {},
   "cell_type": "markdown",
   "metadata": {},
   "source": [
    "|String| P | y | t | h | o | n |   | S | t | r | i | n | g | \n",
    "|------|---|---|---|---|---|---|---|---|---|---|---|---|---|\n",
    "|Index | 0 | 1 | 2 | 3 | 4 | 5 | 6 | 7 | 8 | 9 | 10| 11| 12|\n",
    "|Neg Index|-13|-12|-11|-10| -9|-8 | -7| -6| -5| -4| -3| -2| -1| "
   ]
  },
  {
   "attachments": {},
   "cell_type": "markdown",
   "metadata": {},
   "source": [
    "- To get the length of a string, you use the `len()` function."
   ]
  },
  {
   "cell_type": "code",
   "execution_count": null,
   "metadata": {},
   "outputs": [
    {
     "name": "stdout",
     "output_type": "stream",
     "text": [
      "13\n"
     ]
    }
   ],
   "source": [
    "str = \"Python String\"\n",
    "str_len = len(str)\n",
    "print(str_len)"
   ]
  },
  {
   "attachments": {},
   "cell_type": "markdown",
   "metadata": {},
   "source": [
    "- `Slicing` allows you to get a `substring` from a string."
   ]
  },
  {
   "cell_type": "code",
   "execution_count": null,
   "metadata": {},
   "outputs": [
    {
     "name": "stdout",
     "output_type": "stream",
     "text": [
      "yt\n"
     ]
    }
   ],
   "source": [
    "str = \"Python String\"\n",
    "print(str[1:3]) # Start from 1 to 3rd elements "
   ]
  },
  {
   "attachments": {},
   "cell_type": "markdown",
   "metadata": {},
   "source": [
    "- The `str[1:3]` returns a substring that includes the character from the index `1` (`included`) to `3` (`excluded`)."
   ]
  },
  {
   "cell_type": "code",
   "execution_count": null,
   "metadata": {},
   "outputs": [
    {
     "name": "stdout",
     "output_type": "stream",
     "text": [
      "ython String\n",
      "Pyt\n"
     ]
    }
   ],
   "source": [
    "print(str[1:]) # Start from 1 to end\n",
    "print(str[:3]) # Start from 0 to 3rd elements(excluding index 3)"
   ]
  },
  {
   "attachments": {},
   "cell_type": "markdown",
   "metadata": {},
   "source": [
    "-Python strings are `immutable`. It means that you `cannot change` the string."
   ]
  },
  {
   "cell_type": "code",
   "execution_count": null,
   "metadata": {},
   "outputs": [
    {
     "ename": "TypeError",
     "evalue": "'str' object does not support item assignment",
     "output_type": "error",
     "traceback": [
      "\u001b[0;31m---------------------------------------------------------------------------\u001b[0m\n",
      "\u001b[0;31mTypeError\u001b[0m                                 Traceback (most recent call last)\n",
      "Cell \u001b[0;32mIn[10], line 2\u001b[0m\n",
      "\u001b[1;32m      1\u001b[0m \u001b[39mstr\u001b[39m \u001b[39m=\u001b[39m \u001b[39m\"\u001b[39m\u001b[39mPython String\u001b[39m\u001b[39m\"\u001b[39m\n",
      "\u001b[0;32m----> 2\u001b[0m \u001b[39mstr\u001b[39;49m[\u001b[39m0\u001b[39;49m] \u001b[39m=\u001b[39m \u001b[39m'\u001b[39m\u001b[39mJ\u001b[39m\u001b[39m'\u001b[39m\n",
      "\n",
      "\u001b[0;31mTypeError\u001b[0m: 'str' object does not support item assignment"
     ]
    }
   ],
   "source": [
    "str = \"Python String\"\n",
    "str[0] = 'J'"
   ]
  },
  {
   "attachments": {},
   "cell_type": "markdown",
   "metadata": {},
   "source": [
    "- When want to `modify` a string, you need to create a `new` one from the existing string. And can replace the existing string."
   ]
  },
  {
   "cell_type": "code",
   "execution_count": null,
   "metadata": {},
   "outputs": [
    {
     "name": "stdout",
     "output_type": "stream",
     "text": [
      "Original\t: Python String\n",
      "New\t\t: Jython String\n",
      "Replace\t\t: Jython String\n"
     ]
    }
   ],
   "source": [
    "str = \"Python String\"\n",
    "print(\"Original\\t: \" + str)\n",
    "\n",
    "new_str = 'J' + str[1:]\n",
    "print(\"New\\t\\t: \" + new_str)\n",
    "\n",
    "str = new_str\n",
    "print(\"Replace\\t\\t: \" +str)"
   ]
  },
  {
   "attachments": {},
   "cell_type": "markdown",
   "metadata": {},
   "source": [
    "## Numbers"
   ]
  },
  {
   "attachments": {},
   "cell_type": "markdown",
   "metadata": {},
   "source": [
    "### Arithmetic Operators"
   ]
  },
  {
   "attachments": {},
   "cell_type": "markdown",
   "metadata": {},
   "source": [
    "|Operator |\tName |\tExample |\n",
    "|--------|----------|-------|\n",
    "|`+ `\t|Addition |\t`x + y `\t|\n",
    "|`-` \t|Subtraction |`\tx - y `\t|\n",
    "|`* `\t|Multiplication |\t`x * y` \t|\n",
    "|`/ `\t|Division |\t`x / y `\t|\n",
    "|`%` \t|Modulus |\t`x % y` \t|\n",
    "|`**` |\tExponentiation |\t`x ** y `\t|\n",
    "|`//` |\tFloor division |\t`x // y` \t|"
   ]
  },
  {
   "attachments": {},
   "cell_type": "markdown",
   "metadata": {},
   "source": [
    "### Example"
   ]
  },
  {
   "cell_type": "code",
   "execution_count": null,
   "metadata": {},
   "outputs": [],
   "source": [
    "x = 23.7\n",
    "y = 5"
   ]
  },
  {
   "cell_type": "code",
   "execution_count": null,
   "metadata": {},
   "outputs": [
    {
     "data": {
      "text/plain": [
       "28.7"
      ]
     },
     "metadata": {},
     "output_type": "display_data"
    }
   ],
   "source": [
    "x + y # Addition"
   ]
  },
  {
   "cell_type": "code",
   "execution_count": null,
   "metadata": {},
   "outputs": [
    {
     "data": {
      "text/plain": [
       "18.7"
      ]
     },
     "metadata": {},
     "output_type": "display_data"
    }
   ],
   "source": [
    "x - y # Subtraction"
   ]
  },
  {
   "cell_type": "code",
   "execution_count": null,
   "metadata": {},
   "outputs": [
    {
     "data": {
      "text/plain": [
       "118.5"
      ]
     },
     "metadata": {},
     "output_type": "display_data"
    }
   ],
   "source": [
    "x * y # Multiplication"
   ]
  },
  {
   "cell_type": "code",
   "execution_count": null,
   "metadata": {},
   "outputs": [
    {
     "data": {
      "text/plain": [
       "7477247.049569999"
      ]
     },
     "metadata": {},
     "output_type": "display_data"
    }
   ],
   "source": [
    "x ** y # Exponentiation"
   ]
  },
  {
   "cell_type": "code",
   "execution_count": null,
   "metadata": {},
   "outputs": [
    {
     "data": {
      "text/plain": [
       "4.74"
      ]
     },
     "metadata": {},
     "output_type": "display_data"
    }
   ],
   "source": [
    "x / y # Division"
   ]
  },
  {
   "cell_type": "code",
   "execution_count": null,
   "metadata": {},
   "outputs": [
    {
     "data": {
      "text/plain": [
       "4.0"
      ]
     },
     "metadata": {},
     "output_type": "display_data"
    }
   ],
   "source": [
    "x // y # Floor Division"
   ]
  },
  {
   "cell_type": "code",
   "execution_count": null,
   "metadata": {},
   "outputs": [
    {
     "name": "stdout",
     "output_type": "stream",
     "text": [
      "10000000.4546\n"
     ]
    }
   ],
   "source": [
    "z = 10_000_000.45_46 # 10,000,000.45,46 to read the nubmber easily  (_) is used between digits\n",
    "\n",
    "print(z)"
   ]
  },
  {
   "attachments": {},
   "cell_type": "markdown",
   "metadata": {},
   "source": [
    "## Boolean"
   ]
  },
  {
   "attachments": {},
   "cell_type": "markdown",
   "metadata": {},
   "source": [
    "### Comparison operators"
   ]
  },
  {
   "attachments": {},
   "cell_type": "markdown",
   "metadata": {},
   "source": [
    "| Operator |\tName |\tExample \t|\n",
    "|----------|----------|-------------|\n",
    "|`==`|\tEqual \t|`x == y` \t|\n",
    "|`!=`|\tNot equal| \t`x != y`| \t\n",
    "|`>` |Greater than |\t`x > y`| \t\n",
    "|`<` |Less than |\t`x < y` \t|\n",
    "|`>=`|\tGreater than or equal to |\t`x >= y`| \t\n",
    "|`<=`| \tLess than or equal to |\t`x <= y`|"
   ]
  },
  {
   "attachments": {},
   "cell_type": "markdown",
   "metadata": {},
   "source": [
    "### Logical Operators"
   ]
  },
  {
   "attachments": {},
   "cell_type": "markdown",
   "metadata": {},
   "source": [
    "|Operator |\tDescription \t|Example|\n",
    "|-----|---------|------|\n",
    "|`and`  \t|Returns True if both statements are true |\t`x < 5 and  x < 10 `\t|\n",
    "|`or` |\tReturns True if one of the statements is true |\t`x < 5 or x < 4 `\t|\n",
    "|`not` |\tReverse the result, returns False if the result is true |\t`not(x < 5 and x < 10)`|"
   ]
  },
  {
   "attachments": {},
   "cell_type": "markdown",
   "metadata": {},
   "source": [
    "### Identity Operators"
   ]
  },
  {
   "attachments": {},
   "cell_type": "markdown",
   "metadata": {},
   "source": [
    "|Operator |\tDescription |\tExample|\n",
    "|----------|-----------|-----------|\n",
    "|`is`  \t|Returns True if both variables are the same object |\t`x is y` \t|\n",
    "|`is not` |\tReturns True if both variables are not the same object |\t`x is not y`|"
   ]
  },
  {
   "attachments": {},
   "cell_type": "markdown",
   "metadata": {},
   "source": [
    "### Membership Operators"
   ]
  },
  {
   "attachments": {},
   "cell_type": "markdown",
   "metadata": {},
   "source": [
    "|Operator |\tDescription |\tExample |\n",
    "|-----------|------------|-----------|\n",
    "|`in`  \t|Returns True if a sequence with the specified value is present in the object |\t`x in y` \t|\n",
    "|`not in` |\tReturns True if a sequence with the specified value is not present in the object |\t`x not in y`|"
   ]
  },
  {
   "attachments": {},
   "cell_type": "markdown",
   "metadata": {},
   "source": [
    "### Examples"
   ]
  },
  {
   "cell_type": "code",
   "execution_count": null,
   "metadata": {},
   "outputs": [],
   "source": [
    "a = 20\n",
    "b = 45"
   ]
  },
  {
   "attachments": {},
   "cell_type": "markdown",
   "metadata": {},
   "source": [
    "**Comparison operator**"
   ]
  },
  {
   "cell_type": "code",
   "execution_count": null,
   "metadata": {},
   "outputs": [
    {
     "data": {
      "text/plain": [
       "False"
      ]
     },
     "metadata": {},
     "output_type": "display_data"
    }
   ],
   "source": [
    "a == b # Equality"
   ]
  },
  {
   "cell_type": "code",
   "execution_count": null,
   "metadata": {},
   "outputs": [
    {
     "data": {
      "text/plain": [
       "True"
      ]
     },
     "metadata": {},
     "output_type": "display_data"
    }
   ],
   "source": [
    "a != b # Not Equality"
   ]
  },
  {
   "cell_type": "code",
   "execution_count": null,
   "metadata": {},
   "outputs": [
    {
     "data": {
      "text/plain": [
       "False"
      ]
     },
     "metadata": {},
     "output_type": "display_data"
    }
   ],
   "source": [
    "a > b # Greater than"
   ]
  },
  {
   "cell_type": "code",
   "execution_count": null,
   "metadata": {},
   "outputs": [
    {
     "data": {
      "text/plain": [
       "False"
      ]
     },
     "metadata": {},
     "output_type": "display_data"
    }
   ],
   "source": [
    "a < b # Less than"
   ]
  },
  {
   "cell_type": "code",
   "execution_count": null,
   "metadata": {},
   "outputs": [
    {
     "data": {
      "text/plain": [
       "False"
      ]
     },
     "metadata": {},
     "output_type": "display_data"
    }
   ],
   "source": [
    "a >= b # Greater than or equal to"
   ]
  },
  {
   "cell_type": "code",
   "execution_count": null,
   "metadata": {},
   "outputs": [
    {
     "data": {
      "text/plain": [
       "True"
      ]
     },
     "metadata": {},
     "output_type": "display_data"
    }
   ],
   "source": [
    "a <= b # Less than or equal to"
   ]
  },
  {
   "attachments": {},
   "cell_type": "markdown",
   "metadata": {},
   "source": [
    "**Logical Operators**"
   ]
  },
  {
   "cell_type": "code",
   "execution_count": null,
   "metadata": {},
   "outputs": [
    {
     "data": {
      "text/plain": [
       "False"
      ]
     },
     "metadata": {},
     "output_type": "display_data"
    }
   ],
   "source": [
    "a < b and a == b # Logical AND (less than and equal to)"
   ]
  },
  {
   "cell_type": "code",
   "execution_count": null,
   "metadata": {},
   "outputs": [
    {
     "data": {
      "text/plain": [
       "True"
      ]
     },
     "metadata": {},
     "output_type": "display_data"
    }
   ],
   "source": [
    "a < b or a == b # Logical OR (less than or equal to)"
   ]
  },
  {
   "cell_type": "code",
   "execution_count": null,
   "metadata": {},
   "outputs": [
    {
     "data": {
      "text/plain": [
       "False"
      ]
     },
     "metadata": {},
     "output_type": "display_data"
    }
   ],
   "source": [
    "not(a < b) # Logical NOT (not less than)"
   ]
  },
  {
   "attachments": {},
   "cell_type": "markdown",
   "metadata": {},
   "source": [
    "**Identity Operator**"
   ]
  },
  {
   "cell_type": "code",
   "execution_count": null,
   "metadata": {},
   "outputs": [
    {
     "data": {
      "text/plain": [
       "False"
      ]
     },
     "metadata": {},
     "output_type": "display_data"
    }
   ],
   "source": [
    "a is b # Identity (datatype & value are same)"
   ]
  },
  {
   "cell_type": "code",
   "execution_count": null,
   "metadata": {},
   "outputs": [
    {
     "data": {
      "text/plain": [
       "True"
      ]
     },
     "metadata": {},
     "output_type": "display_data"
    }
   ],
   "source": [
    "a is not b # Not Identity"
   ]
  },
  {
   "attachments": {},
   "cell_type": "markdown",
   "metadata": {},
   "source": [
    "**Membership Operators**"
   ]
  },
  {
   "cell_type": "code",
   "execution_count": null,
   "metadata": {},
   "outputs": [],
   "source": [
    "b = [1, 2, 3] # List"
   ]
  },
  {
   "cell_type": "code",
   "execution_count": null,
   "metadata": {},
   "outputs": [
    {
     "data": {
      "text/plain": [
       "False"
      ]
     },
     "metadata": {},
     "output_type": "display_data"
    }
   ],
   "source": [
    "a in b # Membership"
   ]
  },
  {
   "cell_type": "code",
   "execution_count": null,
   "metadata": {},
   "outputs": [
    {
     "data": {
      "text/plain": [
       "True"
      ]
     },
     "metadata": {},
     "output_type": "display_data"
    }
   ],
   "source": [
    "a not in b # Not Membership"
   ]
  },
  {
   "attachments": {},
   "cell_type": "markdown",
   "metadata": {},
   "source": [
    "# Collections (Arrays)"
   ]
  },
  {
   "attachments": {},
   "cell_type": "markdown",
   "metadata": {},
   "source": [
    "## Lists"
   ]
  },
  {
   "attachments": {},
   "cell_type": "markdown",
   "metadata": {},
   "source": [
    "- Lists are used to store multiple items in a single variable.\n",
    "- Lists are created using square brackets `[` ... `]`."
   ]
  },
  {
   "cell_type": "code",
   "execution_count": null,
   "metadata": {},
   "outputs": [
    {
     "name": "stdout",
     "output_type": "stream",
     "text": [
      "['apple', 'banana', 'cherry']\n"
     ]
    }
   ],
   "source": [
    "thislist = [\"apple\", \"banana\", \"cherry\"]\n",
    "print(thislist)"
   ]
  },
  {
   "attachments": {},
   "cell_type": "markdown",
   "metadata": {},
   "source": [
    "- List items can be of any data type."
   ]
  },
  {
   "cell_type": "code",
   "execution_count": null,
   "metadata": {},
   "outputs": [
    {
     "name": "stdout",
     "output_type": "stream",
     "text": [
      "['apple', 'banana', 'cherry'] \n",
      " [1, 5, 7, 9, 3] \n",
      " [True, False, False]\n"
     ]
    }
   ],
   "source": [
    "list1 = [\"apple\", \"banana\", \"cherry\"]\n",
    "list2 = [1, 5, 7, 9, 3]\n",
    "list3 = [True, False, False]\n",
    "\n",
    "print(list1 , '\\n' , list2 , '\\n' , list3)"
   ]
  },
  {
   "attachments": {},
   "cell_type": "markdown",
   "metadata": {},
   "source": [
    "- A list can contain different data types."
   ]
  },
  {
   "cell_type": "code",
   "execution_count": null,
   "metadata": {},
   "outputs": [
    {
     "name": "stdout",
     "output_type": "stream",
     "text": [
      "['abc', 34, True, 40, 'male']\n"
     ]
    }
   ],
   "source": [
    "list1 = [\"abc\", 34, True, 40, \"male\"]\n",
    "print(list1)"
   ]
  },
  {
   "attachments": {},
   "cell_type": "markdown",
   "metadata": {},
   "source": [
    "- It is also possible to use the `list()` constructor when creating a new list."
   ]
  },
  {
   "cell_type": "code",
   "execution_count": null,
   "metadata": {},
   "outputs": [
    {
     "name": "stdout",
     "output_type": "stream",
     "text": [
      "['apple', ['abc', 34, True, 40, 'male']]\n"
     ]
    }
   ],
   "source": [
    "thislist = list((\"apple\", list1)) # note the double round-brackets\n",
    "print(thislist)"
   ]
  },
  {
   "attachments": {},
   "cell_type": "markdown",
   "metadata": {},
   "source": [
    "- To determine how many items a list has, use the `len()` function"
   ]
  },
  {
   "cell_type": "code",
   "execution_count": null,
   "metadata": {},
   "outputs": [
    {
     "name": "stdout",
     "output_type": "stream",
     "text": [
      "3\n"
     ]
    }
   ],
   "source": [
    "thislist = [\"apple\", \"banana\", \"cherry\"]\n",
    "print(len(thislist))"
   ]
  },
  {
   "attachments": {},
   "cell_type": "markdown",
   "metadata": {},
   "source": [
    "### Modifying, adding, and removing elements"
   ]
  },
  {
   "attachments": {},
   "cell_type": "markdown",
   "metadata": {},
   "source": [
    "- The following example shows how to change the `first element` (`0`) of the numbers list to `10`:"
   ]
  },
  {
   "cell_type": "code",
   "execution_count": null,
   "metadata": {},
   "outputs": [
    {
     "name": "stdout",
     "output_type": "stream",
     "text": [
      "[1, 3, 2, 7, 9, 4]\n",
      "[10, 3, 2, 7, 9, 4]\n"
     ]
    }
   ],
   "source": [
    "\n",
    "numbers = [1, 3, 2, 7, 9, 4]\n",
    "print(numbers)\n",
    "\n",
    "numbers[0] = 10  # replace 1st element\n",
    "print(numbers)"
   ]
  },
  {
   "attachments": {},
   "cell_type": "markdown",
   "metadata": {},
   "source": [
    "- The `append(new_element)` method appends an element to the end of a list. For example:"
   ]
  },
  {
   "cell_type": "code",
   "execution_count": null,
   "metadata": {},
   "outputs": [
    {
     "name": "stdout",
     "output_type": "stream",
     "text": [
      "[1, 3, 2, 7, 9, 4]\n",
      "[1, 3, 2, 7, 9, 4, 100]\n"
     ]
    }
   ],
   "source": [
    "numbers = [1, 3, 2, 7, 9, 4]\n",
    "print(numbers)\n",
    "\n",
    "numbers.append(100)  # append element 100 at the end of list\n",
    "print(numbers)"
   ]
  },
  {
   "attachments": {},
   "cell_type": "markdown",
   "metadata": {},
   "source": [
    "- The `insert(index, element)` method adds a new element at any position in the list."
   ]
  },
  {
   "cell_type": "code",
   "execution_count": null,
   "metadata": {},
   "outputs": [
    {
     "name": "stdout",
     "output_type": "stream",
     "text": [
      "[1, 3, 2, 7, 9, 4]\n",
      "[1, 3, 100, 2, 7, 9, 4]\n"
     ]
    }
   ],
   "source": [
    "numbers = [1, 3, 2, 7, 9, 4]\n",
    "print(numbers)\n",
    "\n",
    "numbers.insert(2, 100)  # insert element 100 at index 2\n",
    "print(numbers)"
   ]
  },
  {
   "attachments": {},
   "cell_type": "markdown",
   "metadata": {},
   "source": [
    "- The `del` statement allows you to remove an element from a list by specifying the position of the element."
   ]
  },
  {
   "cell_type": "code",
   "execution_count": null,
   "metadata": {},
   "outputs": [
    {
     "name": "stdout",
     "output_type": "stream",
     "text": [
      "[1, 3, 2, 7, 9, 4]\n",
      "[1, 2, 7, 9, 4]\n"
     ]
    }
   ],
   "source": [
    "numbers = [1, 3, 2, 7, 9, 4]\n",
    "print(numbers)\n",
    "\n",
    "del numbers[1]  # remove 2nd element\n",
    "print(numbers)"
   ]
  },
  {
   "attachments": {},
   "cell_type": "markdown",
   "metadata": {},
   "source": [
    "- The `pop(index)` method removes the element from a list and returns the element:"
   ]
  },
  {
   "cell_type": "code",
   "execution_count": null,
   "metadata": {},
   "outputs": [
    {
     "name": "stdout",
     "output_type": "stream",
     "text": [
      "[1, 3, 2, 7, 9, 4]\n",
      "[1, 3, 2, 7, 9]\n",
      "4\n"
     ]
    }
   ],
   "source": [
    "numbers = [1, 3, 2, 7, 9, 4]\n",
    "print(numbers)\n",
    "\n",
    "last = numbers.pop()    # remove last element\n",
    "print(numbers)\n",
    "print(last)"
   ]
  },
  {
   "cell_type": "code",
   "execution_count": null,
   "metadata": {},
   "outputs": [
    {
     "name": "stdout",
     "output_type": "stream",
     "text": [
      "[1, 3, 2, 7, 9, 4]\n",
      "[1, 3, 2, 9, 4]\n",
      "7\n"
     ]
    }
   ],
   "source": [
    "numbers = [1, 3, 2, 7, 9, 4]\n",
    "print(numbers)\n",
    "\n",
    "element = numbers.pop(3)    # remove 3rd element and return it\n",
    "print(numbers)\n",
    "print(element)"
   ]
  },
  {
   "attachments": {},
   "cell_type": "markdown",
   "metadata": {},
   "source": [
    "- To remove an element by value, you use the `remove(element)` method"
   ]
  },
  {
   "cell_type": "code",
   "execution_count": null,
   "metadata": {},
   "outputs": [
    {
     "name": "stdout",
     "output_type": "stream",
     "text": [
      "[1, 3, 2, 7, 9, 4]\n",
      "[1, 3, 2, 7, 4]\n"
     ]
    }
   ],
   "source": [
    "numbers = [1, 3, 2, 7, 9, 4]\n",
    "print(numbers)\n",
    "\n",
    "numbers.remove(9)\n",
    "print(numbers)"
   ]
  },
  {
   "attachments": {},
   "cell_type": "markdown",
   "metadata": {},
   "source": [
    "## Tuple"
   ]
  },
  {
   "attachments": {},
   "cell_type": "markdown",
   "metadata": {},
   "source": [
    "- Tuple is a list of items that cannot be changed throughout the program.\n",
    "- A tuple is like a list except that it uses parentheses `()` instead of square brackets `[]`\n",
    "\n",
    "- Python refers to a value that cannot change as immutable.\n",
    "- So by definition, a tuple is an `immutable list`."
   ]
  },
  {
   "cell_type": "code",
   "execution_count": null,
   "metadata": {},
   "outputs": [
    {
     "name": "stdout",
     "output_type": "stream",
     "text": [
      "red\n",
      "green\n",
      "blue\n",
      "\n",
      " ('red', 'green', 'blue')\n",
      "<class 'tuple'>\n",
      "\n",
      " (3,)\n",
      "<class 'tuple'>\n"
     ]
    }
   ],
   "source": [
    "rgb = ('red', 'green', 'blue')  # Create Tuple \n",
    "\n",
    "print(rgb[0])\n",
    "print(rgb[1])\n",
    "print(rgb[2])\n",
    "\n",
    "print('\\n', rgb)\n",
    "print(type(rgb))\n",
    "\n",
    "numbers = (3,)  # Tuple with single element ( Comma is required or it will be integer)\n",
    "print('\\n', numbers)\n",
    "print(type(numbers))"
   ]
  },
  {
   "attachments": {},
   "cell_type": "markdown",
   "metadata": {},
   "source": [
    "- a tuple is immutable, you cannot change its elements"
   ]
  },
  {
   "cell_type": "code",
   "execution_count": null,
   "metadata": {},
   "outputs": [
    {
     "ename": "TypeError",
     "evalue": "'tuple' object does not support item assignment",
     "output_type": "error",
     "traceback": [
      "\u001b[0;31m---------------------------------------------------------------------------\u001b[0m\n",
      "\u001b[0;31mTypeError\u001b[0m                                 Traceback (most recent call last)\n",
      "Cell \u001b[0;32mIn[115], line 2\u001b[0m\n",
      "\u001b[1;32m      1\u001b[0m rgb \u001b[39m=\u001b[39m (\u001b[39m'\u001b[39m\u001b[39mred\u001b[39m\u001b[39m'\u001b[39m, \u001b[39m'\u001b[39m\u001b[39mgreen\u001b[39m\u001b[39m'\u001b[39m, \u001b[39m'\u001b[39m\u001b[39mblue\u001b[39m\u001b[39m'\u001b[39m)\n",
      "\u001b[0;32m----> 2\u001b[0m rgb[\u001b[39m0\u001b[39;49m] \u001b[39m=\u001b[39m \u001b[39m'\u001b[39m\u001b[39myellow\u001b[39m\u001b[39m'\u001b[39m\n",
      "\n",
      "\u001b[0;31mTypeError\u001b[0m: 'tuple' object does not support item assignment"
     ]
    }
   ],
   "source": [
    "rgb = ('red', 'green', 'blue')\n",
    "rgb[0] = 'yellow'"
   ]
  },
  {
   "attachments": {},
   "cell_type": "markdown",
   "metadata": {},
   "source": [
    "- Even though you can’t change a tuple, you can assign a new tuple to a variable that references a tuple.\n",
    "- `*.append()` , `*.insert()` , `*.pop()` , `del` , `remove()` will `not` work"
   ]
  },
  {
   "cell_type": "code",
   "execution_count": null,
   "metadata": {},
   "outputs": [
    {
     "name": "stdout",
     "output_type": "stream",
     "text": [
      "('red', 'green', 'blue')\n",
      "('Cyan', 'Magenta', 'Yellow', 'black')\n"
     ]
    }
   ],
   "source": [
    "colors = ('red', 'green', 'blue')\n",
    "print(colors)\n",
    "\n",
    "colors = ('Cyan', 'Magenta', 'Yellow', 'black')\n",
    "print(colors)"
   ]
  },
  {
   "attachments": {},
   "cell_type": "markdown",
   "metadata": {},
   "source": [
    "## Sorting List"
   ]
  },
  {
   "attachments": {},
   "cell_type": "markdown",
   "metadata": {},
   "source": [
    "- To sort a list, you use the `sort()` method:\n",
    "- The `sort()` method sorts the original list in place.\n",
    "- By default, the `sort()` method sorts the elements of a list using the less-than operator (`<`)   (`low` to `high`)\n",
    "- To sort `high` to `low` , pass the `reverse=True` argument to the `sort()` method."
   ]
  },
  {
   "cell_type": "code",
   "execution_count": 6,
   "metadata": {},
   "outputs": [
    {
     "name": "stdout",
     "output_type": "stream",
     "text": [
      "[3, 4, 1, 6, 2, 5]\n",
      "Sorted dice :\n",
      " [1, 2, 3, 4, 5, 6]\n",
      "Reverse Sorted dice :\n",
      " [6, 5, 4, 3, 2, 1]\n"
     ]
    }
   ],
   "source": [
    "dice = [ 3 , 4 , 1 , 6 , 2  , 5 ]\n",
    "print(dice)\n",
    "\n",
    "dice.sort()  # Sort the list\n",
    "print('Sorted dice :\\n', dice)\n",
    "\n",
    "dice.sort(reverse=True)  # Sort the list in reverse order\n",
    "print('Reverse Sorted dice :\\n',dice)"
   ]
  },
  {
   "cell_type": "code",
   "execution_count": 7,
   "metadata": {},
   "outputs": [
    {
     "name": "stdout",
     "output_type": "stream",
     "text": [
      "['James', 'Mary', 'John', 'Patricia', 'Robert', 'Jennifer']\n",
      "Sorted guests :\n",
      " ['James', 'Jennifer', 'John', 'Mary', 'Patricia', 'Robert']\n",
      "Reverse Sorted guests :\n",
      " ['Robert', 'Patricia', 'Mary', 'John', 'Jennifer', 'James']\n"
     ]
    }
   ],
   "source": [
    "guests = ['James', 'Mary', 'John', 'Patricia', 'Robert', 'Jennifer']\n",
    "print(guests)\n",
    "\n",
    "guests.sort()    # Sort the list (alphabetical order / ASCII order)\n",
    "print('Sorted guests :\\n',guests)\n",
    "\n",
    "guests.sort(reverse=True)    # Sort the list in reverse order (alphabetical order / ASCII order)\n",
    "print('Reverse Sorted guests :\\n',guests)"
   ]
  },
  {
   "cell_type": "code",
   "execution_count": 38,
   "metadata": {},
   "outputs": [
    {
     "name": "stdout",
     "output_type": "stream",
     "text": [
      "[('Google', 2019, 134.81), ('Apple', 2019, 260.2), ('Facebook', 2019, 70.7)]\n",
      "[('Apple', 2019, 260.2), ('Google', 2019, 134.81), ('Facebook', 2019, 70.7)]\n",
      "[('Apple', 2019, 260.2), ('Facebook', 2019, 70.7), ('Google', 2019, 134.81)]\n"
     ]
    }
   ],
   "source": [
    "companies = [('Google', 2019, 134.81),\n",
    "             ('Apple', 2019, 260.2),\n",
    "             ('Facebook', 2019, 70.7)]\n",
    "print(companies)\n",
    "\n",
    "# sort the companies by revenue (using def)\n",
    "# define a sort key\n",
    "def sort_key(company):\n",
    "    return company[2]\n",
    "\n",
    "companies.sort(key=sort_key, reverse=True)\n",
    "print(companies)\n",
    "\n",
    "# sort the companies by revenue (using lambda)\n",
    "companies.sort(key=lambda x: x[0], reverse=False)\n",
    "print(companies)\n"
   ]
  },
  {
   "attachments": {},
   "cell_type": "markdown",
   "metadata": {},
   "source": [
    "- `sort()` changes the order of elements in the original list.\n",
    "- `sorted()` function doesn’t modify the original list.\n",
    "- `sorted(list , arguments)`"
   ]
  },
  {
   "cell_type": "code",
   "execution_count": 43,
   "metadata": {},
   "outputs": [
    {
     "name": "stdout",
     "output_type": "stream",
     "text": [
      "['James', 'Mary', 'John', 'Patricia', 'Robert', 'Jennifer']\n",
      "['James', 'Jennifer', 'John', 'Mary', 'Patricia', 'Robert']\n",
      "['Robert', 'Patricia', 'Mary', 'John', 'Jennifer', 'James']\n"
     ]
    }
   ],
   "source": [
    "guests = ['James', 'Mary', 'John', 'Patricia', 'Robert', 'Jennifer']\n",
    "sorted_guests = sorted(guests)\n",
    "sorted_reversed_guests = sorted(guests , reverse=True)\n",
    "\n",
    "print(guests)\n",
    "print(sorted_guests)\n",
    "print(sorted_reversed_guests)"
   ]
  },
  {
   "attachments": {},
   "cell_type": "markdown",
   "metadata": {},
   "source": [
    "**List slice notation**\n",
    "- `sub_list = list[begin: end: step]`\n",
    "- The `begin` index defaults to `zero` (`0`).\n",
    "- The `end` index defaults to the `length` (`len()`) of the list.\n",
    "- The `step` index defaults to `1`."
   ]
  },
  {
   "cell_type": "code",
   "execution_count": 1,
   "metadata": {},
   "outputs": [
    {
     "name": "stdout",
     "output_type": "stream",
     "text": [
      "[('red', 1), ('orange', 2), ('yellow', 3), ('green', 4), ('blue', 5), ('indigo', 6), ('violet', 7)]\n",
      "\n",
      "slice from index 1 to 4 (excluding index 4)\n",
      "[('orange', 2), ('yellow', 3), ('green', 4)]\n",
      "\n",
      "slice from index 1 to end\n",
      "[('orange', 2), ('yellow', 3), ('green', 4), ('blue', 5), ('indigo', 6), ('violet', 7)]\n",
      "\n",
      "slice from index 0 to 4 (excluding index 4)\n",
      "[('red', 1), ('orange', 2), ('yellow', 3), ('green', 4)]\n",
      "\n",
      "slice from index 0 to end\n",
      "[('red', 1), ('orange', 2), ('yellow', 3), ('green', 4), ('blue', 5), ('indigo', 6), ('violet', 7)]\n",
      "\n",
      "slice from index 1 to 4 (excluding index 4) with step 2\n",
      "[('orange', 2), ('green', 4)]\n",
      "\n",
      "slice from index 0 to end with step 2\n",
      "[('red', 1), ('yellow', 3), ('blue', 5), ('violet', 7)]\n",
      "\n",
      "slice from index 0 to end with step 2\n",
      "[('violet', 7), ('indigo', 6), ('blue', 5), ('green', 4), ('yellow', 3), ('orange', 2), ('red', 1)]\n",
      "\n",
      "slice from index 0 to end with step 2\n",
      "[('violet', 7), ('blue', 5), ('yellow', 3), ('red', 1)]\n",
      "\n",
      "slice from index 4 to 1 with step -1 (excluding index 1)\n",
      "[('blue', 5), ('green', 4), ('yellow', 3)]\n",
      "\n",
      "slice from index -4 to start (2 elements) but in the end direction\n",
      "[('blue', 5), ('green', 4), ('yellow', 3)]\n",
      "\n",
      "slice from index -4 to -1\n",
      "[('green', 4), ('blue', 5), ('indigo', 6)]\n"
     ]
    }
   ],
   "source": [
    "colors = [('red',1), ('orange',2), ('yellow',3), ('green',4), \n",
    "          ('blue',5), ('indigo',6), ('violet',7)]\n",
    "print(colors)\n",
    "\n",
    "sub_colors = colors[1:4]  # slice from index 1 to 4 (excluding index 4)\n",
    "print('\\nslice from index 1 to 4 (excluding index 4)')\n",
    "print(sub_colors)\n",
    "\n",
    "sub_colors = colors[1:]  # slice from index 1 to end\n",
    "print('\\nslice from index 1 to end')\n",
    "print(sub_colors)\n",
    "\n",
    "sub_colors = colors[:4]  # slice from index 0 to 4 (excluding index 4)\n",
    "print('\\nslice from index 0 to 4 (excluding index 4)')\n",
    "print(sub_colors)\n",
    "\n",
    "sub_colors = colors[:]  # slice from index 0 to end\n",
    "print('\\nslice from index 0 to end')\n",
    "print(sub_colors)\n",
    "\n",
    "sub_colors = colors[1:4:2]  # slice from index 1 to 4 (excluding index 4) with step 2\n",
    "print('\\nslice from index 1 to 4 (excluding index 4) with step 2')\n",
    "print(sub_colors)\n",
    "\n",
    "sub_colors = colors[::2]  # slice from index 0 to end with step 2\n",
    "print('\\nslice from index 0 to end with step 2')\n",
    "print(sub_colors)\n",
    "\n",
    "sub_colors = colors[::-1]  # slice from index 0 to end with step 2\n",
    "print('\\nslice from index 0 to end with step 2')\n",
    "print(sub_colors)\n",
    "\n",
    "sub_colors = colors[::-2]  # slice from index end to 0 with step 2\n",
    "print('\\nslice from index 0 to end with step 2')\n",
    "print(sub_colors)\n",
    "\n",
    "sub_colors = colors[4:1:-1]  # slice from index 4 to 1 with step -1 (excluding index 1)\n",
    "print('\\nslice from index 4 to 1 with step -1 (excluding index 1)')\n",
    "print(sub_colors)\n",
    "\n",
    "ub_colors = colors[-4::-1]  # slice from index -4 to start (2 elements) but in the end direction\n",
    "print('\\nslice from index -4 to start (2 elements) but in the end direction')\n",
    "print(sub_colors)\n",
    "\n",
    "sub_colors = colors[-4:-1]  # slice from index -4 to -1\n",
    "print('\\nslice from index -4 to -1')\n",
    "print(sub_colors)"
   ]
  },
  {
   "attachments": {},
   "cell_type": "markdown",
   "metadata": {},
   "source": [
    "- list unpacking "
   ]
  },
  {
   "cell_type": "code",
   "execution_count": 17,
   "metadata": {},
   "outputs": [
    {
     "name": "stdout",
     "output_type": "stream",
     "text": [
      "[('red', 1), ('orange', 2), ('yellow', 3), ('green', 4), ('blue', 5), ('indigo', 6), ('violet', 7)] \n",
      "\n",
      "('red', 1) ('orange', 2) ('yellow', 3)\n",
      "<class 'tuple'> <class 'tuple'> <class 'tuple'>\n",
      "\n",
      " ('red', 1) ('orange', 2) ('yellow', 3)\n",
      "<class 'tuple'> <class 'tuple'> <class 'tuple'>\n",
      "\n",
      "others = [('green', 4), ('blue', 5), ('indigo', 6), ('violet', 7)]\n",
      "<class 'list'>\n"
     ]
    }
   ],
   "source": [
    "colors = [('red',1), ('orange',2), ('yellow',3), ('green',4), \n",
    "          ('blue',5), ('indigo',6), ('violet',7)]\n",
    "print(colors,'\\n')\n",
    "\n",
    "color1 , color2 , color3 = colors[:3] # Unpack a list into 3 variables from idex 0 to 2\n",
    "print(color1, color2, color3)\n",
    "print(type(color1), type(color2), type(color3))\n",
    "\n",
    "color1 , color2 , color3 , *others = colors # Unpack a list into 3 variables\n",
    "print('\\n',color1, color2, color3)\n",
    "print(type(color1), type(color2), type(color3))\n",
    "\n",
    "print('\\n' 'others =',others)\n",
    "print(type(others))"
   ]
  }
 ],
 "metadata": {
  "kernelspec": {
   "display_name": "Python 3",
   "language": "python",
   "name": "python3"
  },
  "language_info": {
   "codemirror_mode": {
    "name": "ipython",
    "version": 3
   },
   "file_extension": ".py",
   "mimetype": "text/x-python",
   "name": "python",
   "nbconvert_exporter": "python",
   "pygments_lexer": "ipython3",
   "version": "3.11.3"
  },
  "orig_nbformat": 4
 },
 "nbformat": 4,
 "nbformat_minor": 2
}
