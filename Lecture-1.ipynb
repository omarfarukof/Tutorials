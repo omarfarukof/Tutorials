{
 "cells": [
  {
   "attachments": {},
   "cell_type": "markdown",
   "metadata": {},
   "source": [
    "# Install"
   ]
  },
  {
   "attachments": {},
   "cell_type": "markdown",
   "metadata": {},
   "source": [
    "- Python\n",
    "- C\n",
    "- C++\n",
    "- Matlab\n",
    "- Octave"
   ]
  },
  {
   "attachments": {},
   "cell_type": "markdown",
   "metadata": {},
   "source": [
    "## Python"
   ]
  },
  {
   "cell_type": "code",
   "execution_count": 81,
   "metadata": {},
   "outputs": [
    {
     "name": "stdout",
     "output_type": "stream",
     "text": [
      "C_codes/test\n"
     ]
    }
   ],
   "source": [
    "cfile = \"test\"\n",
    "cwrite = \"%%file C_codes/\" + cfile +\".c\"\n",
    "csourse = \"C_codes/\" + cfile +\".c\"\n",
    "coutput = \"C_codes/\" + cfile\n",
    "print(coutput)\n"
   ]
  },
  {
   "cell_type": "code",
   "execution_count": 91,
   "metadata": {},
   "outputs": [
    {
     "ename": "SyntaxError",
     "evalue": "invalid syntax (3254939565.py, line 4)",
     "output_type": "error",
     "traceback": [
      "\u001b[0;36m  Cell \u001b[0;32mIn[91], line 4\u001b[0;36m\u001b[0m\n\u001b[0;31m    int main() {\u001b[0m\n\u001b[0m        ^\u001b[0m\n\u001b[0;31mSyntaxError\u001b[0m\u001b[0;31m:\u001b[0m invalid syntax\n"
     ]
    }
   ],
   "source": [
    "cwrite\n",
    "\n",
    "#include <stdio.h>\n",
    "int main() {\n",
    "    printf(\"Hello World!\\n\");\n",
    "}"
   ]
  },
  {
   "cell_type": "code",
   "execution_count": 58,
   "metadata": {},
   "outputs": [
    {
     "name": "stdout",
     "output_type": "stream",
     "text": [
      "\u001b[01m\u001b[Kgcc:\u001b[m\u001b[K \u001b[01;31m\u001b[Kerror: \u001b[m\u001b[Kmissing filename after ‘\u001b[01m\u001b[K-o\u001b[m\u001b[K’\n",
      "\u001b[01m\u001b[Kgcc:\u001b[m\u001b[K \u001b[01;31m\u001b[Kfatal error: \u001b[m\u001b[Kno input files\n",
      "compilation terminated.\n"
     ]
    }
   ],
   "source": [
    "! gcc $csource -o $coutput #&& $coutput"
   ]
  },
  {
   "cell_type": "code",
   "execution_count": 109,
   "metadata": {},
   "outputs": [
    {
     "name": "stderr",
     "output_type": "stream",
     "text": [
      "Traceback (most recent call last):\n",
      "  File \"/home/omarf/Project/Tutorials/Jupyter_Run_Code/Jupyter_run_code.py\", line 123, in <module>\n",
      "    @register_cell_magic\n",
      "     ^^^^^^^^^^^^^^^^^^^\n",
      "  File \"/home/omarf/.local/lib/python3.11/site-packages/IPython/core/magic.py\", line 221, in magic_deco\n",
      "    raise NameError('Decorator can only run in context where '\n",
      "NameError: Decorator can only run in context where `get_ipython` exists\n"
     ]
    }
   ],
   "source": [
    "%%run_code python Jupyter_Run_Code/Jupyter_run_code.py\n",
    "# Magic commands to run C code\n",
    "from IPython.core.magic import register_cell_magic\n",
    "import tempfile\n",
    "import os\n",
    "import sys\n",
    "\n",
    "# Temporary directory\n",
    "tmpdir = \".tmp/\"\n",
    "\n",
    "# Class Code Start\n",
    "class Code:\n",
    "\n",
    "    def __init__(self, line, cell):\n",
    "        self.line = line\n",
    "        self.cell = cell\n",
    "        self.name = \"\"\n",
    "        self.location = \"\"\n",
    "        self.language = \"\"\n",
    "        self.extension = \"\"\n",
    "        self.default_path = \"\"\n",
    "        self.path = \"\"\n",
    "        self.tmpcode = False\n",
    "\n",
    "        # run code\n",
    "        self.run()\n",
    "\n",
    "    def get_code_info(self):\n",
    "        if self.language.lower() == \"c\":\n",
    "            self.extension = \".c\"\n",
    "            self.default_path = \"C_codes/\"\n",
    "            self.add_extension()\n",
    "            self.run_syntax = f\"gcc {self.path} -o {self.path[:-len(self.extension)]} \\\n",
    "                  && {self.path[:-len(self.extension)]}\"\n",
    "        elif self.language.lower() == \"python\":\n",
    "            pass\n",
    "            self.extension = \".py\"\n",
    "            self.default_path = \"Python_codes/\"\n",
    "            self.add_extension()\n",
    "            self.run_syntax = f\"python {self.path}\"\n",
    "        else:\n",
    "            pass        \n",
    "\n",
    "    def get_file_info(self):\n",
    "        file = self.line.strip()\n",
    "        file = file.split()\n",
    "        self.language = file[0]\n",
    "        self.get_code_info()\n",
    "\n",
    "        if len(file) == 1:\n",
    "            # self.language , = file\n",
    "            self.location = tmpdir\n",
    "            self.tmpcode = True\n",
    "        else:\n",
    "            # self.get_code_info()\n",
    "            if len(file) == 2:\n",
    "                self.location = file[1]\n",
    "                self.name = self.location.split(self.get_devider())[-1]\n",
    "                self.location = self.location[:-len(self.name)]\n",
    "            elif len(file) == 3:\n",
    "                self.location, self.name = file[1:3]\n",
    "                # create code file in a specific location and run code\n",
    "            else:\n",
    "                if len(file) == 0:\n",
    "                    raise Exception(\"No language specified\")\n",
    "                else:\n",
    "                    raise Exception(\"Too many arguments\")\n",
    "        if self.location == \"\":\n",
    "            self.location = self.default_path\n",
    "        self.location = self.add_devider()\n",
    "        self.path = self.location + self.name\n",
    "        self.add_extension()\n",
    "\n",
    "    def run(self):\n",
    "        self.get_file_info()\n",
    "        if self.tmpcode:\n",
    "            self.create_tmp_file()\n",
    "        else:\n",
    "            self.create_file()      \n",
    "        self.get_code_info()\n",
    "        os.system(self.run_syntax)\n",
    "\n",
    "    def create_file(self):\n",
    "        os.makedirs(self.location, exist_ok=True)\n",
    "        with open(self.path, \"wb\") as f:\n",
    "            f.write(self.cell.encode())\n",
    "            f.close()\n",
    "\n",
    "    def create_tmp_file(self):\n",
    "        self.get_code_info()\n",
    "        os.makedirs(tmpdir, exist_ok=True)\n",
    "        with tempfile.NamedTemporaryFile(suffix=self.extension, \\\n",
    "                                     delete=False, dir=tmpdir) as f:\n",
    "            # write the contents of the cell to the file\n",
    "            f.write(self.cell.encode())\n",
    "            # close the file\n",
    "            f.close()\n",
    "            # run the tmp file\n",
    "            self.path = f.name\n",
    "\n",
    "    def add_extension(self):\n",
    "        if self.path.endswith(self.extension):\n",
    "            pass\n",
    "        else:\n",
    "            self.path = self.path + self.extension\n",
    "        return self.path\n",
    "\n",
    "    def add_devider(self):\n",
    "        if self.location[-1] != self.get_devider():\n",
    "            self.location = self.location + self.get_devider()\n",
    "        return self.location\n",
    "    \n",
    "    def get_devider(self):\n",
    "        if (sys.platform == 'linux') or ( sys.platform == 'darwin'):\n",
    "            self.devider = \"/\"\n",
    "        elif sys.platform == 'win32':\n",
    "            self.devider = \"\\\\\"\n",
    "        else:\n",
    "            pass\n",
    "        return self.devider\n",
    "    \n",
    "# Class Code End\n",
    "\n",
    "@register_cell_magic\n",
    "def run_code(line, cell):\n",
    "    code = Code(line, cell)\n",
    "\n",
    "        \n"
   ]
  },
  {
   "cell_type": "code",
   "execution_count": 108,
   "metadata": {},
   "outputs": [
    {
     "name": "stdout",
     "output_type": "stream",
     "text": [
      "New Project\n"
     ]
    }
   ],
   "source": [
    "%%run_code      c home.c\n",
    "#include <stdio.h>\n",
    "\n",
    "int main() {\n",
    "    printf(\"New Project\\n\");\n",
    "    return 0;\n",
    "}\n"
   ]
  },
  {
   "cell_type": "code",
   "execution_count": 22,
   "metadata": {},
   "outputs": [
    {
     "name": "stdout",
     "output_type": "stream",
     "text": [
      "Do not ask.Omar\n"
     ]
    }
   ],
   "source": [
    "name = \"Omar\"\n",
    "class Person:\n",
    "    counter = 0\n",
    "    # text = \"\"\n",
    "\n",
    "    def __init__(self, name, age):\n",
    "        self.name = name\n",
    "        self.age = age\n",
    "        # Person.counter += 1\n",
    "        self.greet()\n",
    "\n",
    "    def greet(self):\n",
    "        self.text= f\"Hi, it's {self.name}.\" + self.ask()\n",
    "        self.asked = \"Do not ask.\" + name\n",
    "        return self.text \n",
    "    \n",
    "    def ask(self):\n",
    "        self.asked = \"What do you do?\"\n",
    "        return \"You asked.\"\n",
    "    \n",
    "\n",
    "p = Person( \"Man\" , 25).asked\n",
    "# p.ask()\n",
    "print(p)\n"
   ]
  },
  {
   "cell_type": "code",
   "execution_count": 101,
   "metadata": {},
   "outputs": [
    {
     "name": "stdout",
     "output_type": "stream",
     "text": [
      "['Hello', 'World']\n"
     ]
    }
   ],
   "source": [
    "a = [\"Hello\", \"World\"]\n",
    "c = a\n",
    "print(a[0:2])"
   ]
  },
  {
   "cell_type": "code",
   "execution_count": 471,
   "metadata": {},
   "outputs": [
    {
     "name": "stdout",
     "output_type": "stream",
     "text": [
      "hello/asdad/asdad.c\n"
     ]
    }
   ],
   "source": [
    "%%run_code c hello      asdad/asdad\n",
    "# include <stdio.h>"
   ]
  },
  {
   "cell_type": "code",
   "execution_count": null,
   "metadata": {},
   "outputs": [],
   "source": [
    "get_tmp_file(code_language = \"c\")"
   ]
  },
  {
   "cell_type": "code",
   "execution_count": 422,
   "metadata": {},
   "outputs": [
    {
     "name": "stdout",
     "output_type": "stream",
     "text": [
      "hello\n"
     ]
    }
   ],
   "source": [
    "str = \"hello\"\n",
    "def get_hi(str):\n",
    "    str = \"hi\"\n",
    "\n",
    "get_hi(str)\n",
    "print(str)"
   ]
  },
  {
   "cell_type": "code",
   "execution_count": 266,
   "metadata": {},
   "outputs": [
    {
     "name": "stdout",
     "output_type": "stream",
     "text": [
      "['hello', '']\n"
     ]
    }
   ],
   "source": [
    "my_string = \"hello:\"\n",
    "delimiter = \":\"\n",
    "\n",
    "# split the string into parts based on the delimiter\n",
    "parts = my_string.split(delimiter)\n",
    "\n",
    "# access the part after the delimiter (index 1)\n",
    "substring = parts[1]\n",
    "\n",
    "print(parts)  # output: \"world\"\n"
   ]
  },
  {
   "cell_type": "code",
   "execution_count": 229,
   "metadata": {},
   "outputs": [
    {
     "name": "stdout",
     "output_type": "stream",
     "text": [
      "3\n",
      "hello/world\n"
     ]
    }
   ],
   "source": [
    "my_list = [\"hello\", \"world\", \"!\"]\n",
    "result = \"/\".join(my_list[0:len(my_list)-1])\n",
    "print(len(my_list))\n",
    "\n",
    "print(result)  # output: \"helloworld!\"\n"
   ]
  },
  {
   "cell_type": "code",
   "execution_count": 309,
   "metadata": {},
   "outputs": [
    {
     "name": "stdout",
     "output_type": "stream",
     "text": [
      "1\n"
     ]
    }
   ],
   "source": [
    "str = \"home\"\n",
    "print(len(str.split()))"
   ]
  },
  {
   "cell_type": "code",
   "execution_count": 269,
   "metadata": {},
   "outputs": [
    {
     "data": {
      "text/plain": [
       "'linux'"
      ]
     },
     "execution_count": 269,
     "metadata": {},
     "output_type": "execute_result"
    }
   ],
   "source": [
    "import sys\n",
    "sys.platform"
   ]
  },
  {
   "cell_type": "code",
   "execution_count": 306,
   "metadata": {},
   "outputs": [
    {
     "name": "stdout",
     "output_type": "stream",
     "text": [
      "Home\n",
      "Hello/code/\n"
     ]
    }
   ],
   "source": [
    "str = \"Hello/code/Home\"\n",
    "name = str.split(\"/\")[-1]\n",
    "loc = str[:-len(name)]\n",
    "print(name)\n",
    "print(loc)"
   ]
  },
  {
   "cell_type": "code",
   "execution_count": 352,
   "metadata": {},
   "outputs": [
    {
     "name": "stdout",
     "output_type": "stream",
     "text": [
      "['      g     ', 'bb']\n"
     ]
    }
   ],
   "source": [
    "a = '      g     '\n",
    "b = \"bb\"\n",
    "c = [a , b]\n",
    "print(c)\n",
    "a = a.strip()\n",
    "if not a:\n",
    "    print(\"True\")"
   ]
  }
 ],
 "metadata": {
  "kernelspec": {
   "display_name": "Python 3 (ipykernel)",
   "language": "python",
   "name": "python3"
  },
  "language_info": {
   "codemirror_mode": {
    "name": "ipython",
    "version": 3
   },
   "file_extension": ".py",
   "mimetype": "text/x-python",
   "name": "python",
   "nbconvert_exporter": "python",
   "pygments_lexer": "ipython3",
   "version": "3.11.3"
  }
 },
 "nbformat": 4,
 "nbformat_minor": 2
}
