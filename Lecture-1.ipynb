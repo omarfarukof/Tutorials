{
 "cells": [
  {
   "attachments": {},
   "cell_type": "markdown",
   "metadata": {},
   "source": [
    "# Install"
   ]
  },
  {
   "attachments": {},
   "cell_type": "markdown",
   "metadata": {},
   "source": [
    "- Python\n",
    "- C\n",
    "- C++\n",
    "- Matlab\n",
    "- Octave"
   ]
  },
  {
   "attachments": {},
   "cell_type": "markdown",
   "metadata": {},
   "source": [
    "## Python"
   ]
  },
  {
   "cell_type": "code",
   "execution_count": 81,
   "metadata": {},
   "outputs": [
    {
     "name": "stdout",
     "output_type": "stream",
     "text": [
      "C_codes/test\n"
     ]
    }
   ],
   "source": [
    "cfile = \"test\"\n",
    "cwrite = \"%%file C_codes/\" + cfile +\".c\"\n",
    "csourse = \"C_codes/\" + cfile +\".c\"\n",
    "coutput = \"C_codes/\" + cfile\n",
    "print(coutput)\n"
   ]
  },
  {
   "cell_type": "code",
   "execution_count": 91,
   "metadata": {},
   "outputs": [
    {
     "ename": "SyntaxError",
     "evalue": "invalid syntax (3254939565.py, line 4)",
     "output_type": "error",
     "traceback": [
      "\u001b[0;36m  Cell \u001b[0;32mIn[91], line 4\u001b[0;36m\u001b[0m\n\u001b[0;31m    int main() {\u001b[0m\n\u001b[0m        ^\u001b[0m\n\u001b[0;31mSyntaxError\u001b[0m\u001b[0;31m:\u001b[0m invalid syntax\n"
     ]
    }
   ],
   "source": [
    "cwrite\n",
    "\n",
    "#include <stdio.h>\n",
    "int main() {\n",
    "    printf(\"Hello World!\\n\");\n",
    "}"
   ]
  },
  {
   "cell_type": "code",
   "execution_count": 58,
   "metadata": {},
   "outputs": [
    {
     "name": "stdout",
     "output_type": "stream",
     "text": [
      "\u001b[01m\u001b[Kgcc:\u001b[m\u001b[K \u001b[01;31m\u001b[Kerror: \u001b[m\u001b[Kmissing filename after ‘\u001b[01m\u001b[K-o\u001b[m\u001b[K’\n",
      "\u001b[01m\u001b[Kgcc:\u001b[m\u001b[K \u001b[01;31m\u001b[Kfatal error: \u001b[m\u001b[Kno input files\n",
      "compilation terminated.\n"
     ]
    }
   ],
   "source": [
    "! gcc $csource -o $coutput #&& $coutput"
   ]
  },
  {
   "cell_type": "code",
   "execution_count": 473,
   "metadata": {},
   "outputs": [],
   "source": [
    "# Magic commands to run C code\n",
    "from IPython.core.magic import register_cell_magic\n",
    "import tempfile\n",
    "import os\n",
    "import sys\n",
    "\n",
    "# Temporary directory\n",
    "tmpdir = \".tmp/\"\n",
    "\n",
    "# OS dependent\n",
    "def get_devider():\n",
    "    if (sys.platform == 'linux') or ( sys.platform == 'darwin'):\n",
    "        devider = \"/\"\n",
    "    elif sys.platform == 'win32':\n",
    "        devider = \"\\\\\"\n",
    "    else:\n",
    "        pass\n",
    "    return devider\n",
    "\n",
    "def remove_ext(file, code_ext):\n",
    "    if file.endswith(code_ext):\n",
    "        file = file[:-len(code_ext)]\n",
    "    return file\n",
    "\n",
    "class Code:\n",
    "    def __init__(self, file , code_language):\n",
    "        self.file = file\n",
    "        self.code_language = code_language.lower()\n",
    "\n",
    "\n",
    "    # def get_default_location(code_language):\n",
    "        if self.code_language == \"c\":\n",
    "            self.default_location = \"C_codes/\"\n",
    "            self.code_ext = \".c\"\n",
    "\n",
    "            if self.file.endswith(self.code_ext):\n",
    "                self.file = file[:-len(self.code_ext)]\n",
    "\n",
    "            self.syntax = f\"gcc {self.file+self.code_ext} -o {self.file} && {self.file}\"\n",
    "            \n",
    "\n",
    "        else:\n",
    "            pass\n",
    "        # return location\n",
    "\n",
    "    # def get_code_ext(code_language):\n",
    "        code_language = code_language.lower()\n",
    "        if code_language == \"c\":\n",
    "            code_ext = \".c\"\n",
    "        else:\n",
    "            pass\n",
    "        return code_ext\n",
    "\n",
    "    # def get_run_code_syntax(file, code_language):\n",
    "        # remove the extension if present\n",
    "        code_ext = get_code_ext(code_language)\n",
    "        if file.endswith(code_ext):\n",
    "            file = file[:-len(code_ext)]\n",
    "\n",
    "        # run the code for the given language\n",
    "        if code_language == \"c\":\n",
    "            syntax = f\"gcc {file+code_ext} -o {file} && {file}\"\n",
    "        else:\n",
    "            pass\n",
    "        return syntax\n",
    "\n",
    "    def run_code_syntax(file, code_language):\n",
    "        # compile the C code using the system's C compiler\n",
    "        os.system(get_run_code_syntax(file, code_language))\n",
    "\n",
    "        # run the compiled executable\n",
    "        # os.system(f\"{f.name[:-2]}\")\n",
    "\n",
    "        # # delete the temporary C file\n",
    "        # os.unlink(f.name)\n",
    "        # os.unlink(f.name[:-2])\n",
    "        # os.rmdir(tmpdir)\n",
    "\n",
    "\n",
    "def add_devider(file):\n",
    "    if file[-1] != get_devider():\n",
    "        file = file + get_devider()\n",
    "    return file\n",
    "\n",
    "\n",
    "# def get_location(file, devider=get_devider(), tmpcode=tmpdir, \\\n",
    "#                  file_loc=get_default_location(), file_name=\"\", code_language=\"c\", creare_file=True):\n",
    "#     file = file.strip()\n",
    "#     if not file:    # if file name is empty\n",
    "#         file_loc = add_devider(tmpcode)\n",
    "#         # file_name = create_tmp_file(code_language) if creare_file else \"\"\n",
    "#     else:       # if file name is given\n",
    "#         file_loc_list = file.split()\n",
    "#         if len(file_loc_list) == 1: # if file name and path are together\n",
    "#             if devider in file:\n",
    "#                 file_name = file.split(devider)[-1]\n",
    "#                 file_loc = file[:-len(file_name)]\n",
    "\n",
    "#             else:   # if only file name is given\n",
    "#                 file_name = file\n",
    "#         else:   # if file name and path are separated\n",
    "#             file_name = file_loc_list[1]\n",
    "#             file_loc = file_loc_list[0]\n",
    "#         file_loc = add_devider(file_loc) # add devider to file location\n",
    "\n",
    "\n",
    "#     return [file_loc+file_name, file_loc, file_name]\n",
    "\n",
    "def run_tmp_file(cell, code_language):\n",
    "    os.makedirs(tmpdir, exist_ok=True)\n",
    "    with tempfile.NamedTemporaryFile(suffix=get_code_ext(code_language), \\\n",
    "                                     delete=False, dir=tmpdir) as f:\n",
    "        # write the contents of the cell to the file\n",
    "        f.write(cell.encode())\n",
    "        # close the file\n",
    "        f.close()\n",
    "\n",
    "        # run the tmp file\n",
    "        # run_code_syntax(f.name, code_language)\n",
    "\n",
    "        # delete the tmp files\n",
    "        os.unlink(f.name)\n",
    "        # os.unlink(f.name[:-])\n",
    "\n",
    "        return f.name\n",
    "    # return file\n",
    "\n",
    "\n",
    "def create_code_file():\n",
    "    pass\n",
    "\n",
    "@register_cell_magic\n",
    "def run_code(line, cell):\n",
    "    line = line.strip()\n",
    "    file = line.split()\n",
    "    if len(file) == 1:\n",
    "        code_language , = file\n",
    "        # run tmp code\n",
    "        run_tmp_file(cell, code_language)\n",
    "\n",
    "        # -------------\n",
    "        print(run_tmp_file(cell, code_language))\n",
    "    else:\n",
    "        if len(file) == 2:\n",
    "            code_language, file_location = file\n",
    "            file_name = file_location.split(get_devider())[-1]\n",
    "            file_location = file_location[:-len(file_name)]\n",
    "            if file_location == \"\":\n",
    "                file_location = get_default_location(code_language)        \n",
    "\n",
    "        elif len(file) == 3:\n",
    "            code_language, file_location, file_name = file\n",
    "            # create code file in a specific location and run code\n",
    "\n",
    "        else:\n",
    "            if len(file) == 0:\n",
    "                raise Exception(\"No language specified\")\n",
    "            else:\n",
    "                raise Exception(\"Too many arguments\")\n",
    "        file_location = add_devider(file_location)\n",
    "        file = file_location + file_name + get_code_ext(code_language)\n",
    "        \n",
    "        # -------------\n",
    "        print(file)\n",
    "\n",
    "        \n"
   ]
  },
  {
   "cell_type": "code",
   "execution_count": 468,
   "metadata": {},
   "outputs": [],
   "source": [
    "%%run_c_code      c\n",
    "#include <stdio.h>\n",
    "\n",
    "int main() {\n",
    "    printf(\"Hello, world!\\n\");\n",
    "    return 0;\n",
    "}\n"
   ]
  },
  {
   "cell_type": "code",
   "execution_count": 471,
   "metadata": {},
   "outputs": [
    {
     "name": "stdout",
     "output_type": "stream",
     "text": [
      "hello/asdad/asdad.c\n"
     ]
    }
   ],
   "source": [
    "%%run_code c hello      asdad/asdad\n",
    "# include <stdio.h>"
   ]
  },
  {
   "cell_type": "code",
   "execution_count": null,
   "metadata": {},
   "outputs": [],
   "source": [
    "get_tmp_file(code_language = \"c\")"
   ]
  },
  {
   "cell_type": "code",
   "execution_count": 422,
   "metadata": {},
   "outputs": [
    {
     "name": "stdout",
     "output_type": "stream",
     "text": [
      "hello\n"
     ]
    }
   ],
   "source": [
    "str = \"hello\"\n",
    "def get_hi(str):\n",
    "    str = \"hi\"\n",
    "\n",
    "get_hi(str)\n",
    "print(str)"
   ]
  },
  {
   "cell_type": "code",
   "execution_count": 266,
   "metadata": {},
   "outputs": [
    {
     "name": "stdout",
     "output_type": "stream",
     "text": [
      "['hello', '']\n"
     ]
    }
   ],
   "source": [
    "my_string = \"hello:\"\n",
    "delimiter = \":\"\n",
    "\n",
    "# split the string into parts based on the delimiter\n",
    "parts = my_string.split(delimiter)\n",
    "\n",
    "# access the part after the delimiter (index 1)\n",
    "substring = parts[1]\n",
    "\n",
    "print(parts)  # output: \"world\"\n"
   ]
  },
  {
   "cell_type": "code",
   "execution_count": 229,
   "metadata": {},
   "outputs": [
    {
     "name": "stdout",
     "output_type": "stream",
     "text": [
      "3\n",
      "hello/world\n"
     ]
    }
   ],
   "source": [
    "my_list = [\"hello\", \"world\", \"!\"]\n",
    "result = \"/\".join(my_list[0:len(my_list)-1])\n",
    "print(len(my_list))\n",
    "\n",
    "print(result)  # output: \"helloworld!\"\n"
   ]
  },
  {
   "cell_type": "code",
   "execution_count": 309,
   "metadata": {},
   "outputs": [
    {
     "name": "stdout",
     "output_type": "stream",
     "text": [
      "1\n"
     ]
    }
   ],
   "source": [
    "str = \"home\"\n",
    "print(len(str.split()))"
   ]
  },
  {
   "cell_type": "code",
   "execution_count": 269,
   "metadata": {},
   "outputs": [
    {
     "data": {
      "text/plain": [
       "'linux'"
      ]
     },
     "execution_count": 269,
     "metadata": {},
     "output_type": "execute_result"
    }
   ],
   "source": [
    "import sys\n",
    "sys.platform"
   ]
  },
  {
   "cell_type": "code",
   "execution_count": 306,
   "metadata": {},
   "outputs": [
    {
     "name": "stdout",
     "output_type": "stream",
     "text": [
      "Home\n",
      "Hello/code/\n"
     ]
    }
   ],
   "source": [
    "str = \"Hello/code/Home\"\n",
    "name = str.split(\"/\")[-1]\n",
    "loc = str[:-len(name)]\n",
    "print(name)\n",
    "print(loc)"
   ]
  },
  {
   "cell_type": "code",
   "execution_count": 352,
   "metadata": {},
   "outputs": [
    {
     "name": "stdout",
     "output_type": "stream",
     "text": [
      "['      g     ', 'bb']\n"
     ]
    }
   ],
   "source": [
    "a = '      g     '\n",
    "b = \"bb\"\n",
    "c = [a , b]\n",
    "print(c)\n",
    "a = a.strip()\n",
    "if not a:\n",
    "    print(\"True\")"
   ]
  }
 ],
 "metadata": {
  "kernelspec": {
   "display_name": "Python 3 (ipykernel)",
   "language": "python",
   "name": "python3"
  },
  "language_info": {
   "codemirror_mode": {
    "name": "ipython",
    "version": 3
   },
   "file_extension": ".py",
   "mimetype": "text/x-python",
   "name": "python",
   "nbconvert_exporter": "python",
   "pygments_lexer": "ipython3",
   "version": "3.11.3"
  }
 },
 "nbformat": 4,
 "nbformat_minor": 2
}
